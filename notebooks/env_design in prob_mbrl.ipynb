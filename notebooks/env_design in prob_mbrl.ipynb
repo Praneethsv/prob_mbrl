{
 "cells": [
  {
   "cell_type": "code",
   "execution_count": 3,
   "metadata": {},
   "outputs": [],
   "source": [
    "\"\"\"\n",
    "Carpole Env from prob_mbrl\n",
    "Tree Structure:\n",
    "    envs\n",
    "    |||| cartpole\n",
    "    ||||||||| env.py, model.py\n",
    "    base.py\n",
    "\"\"\"\n",
    "\n",
    "import torch\n",
    "import numpy as np\n",
    "from gym import spaces\n",
    "import sys\n",
    "\n",
    "sys.path.append(\"/home/praneethsv/Pictures/prob_mbrl\")\n",
    "\n",
    "from prob_mbrl.envs.cartpole.model import CartpoleModel\n",
    "from prob_mbrl.envs.base import GymEnv\n",
    "from prob_mbrl.utils import angles\n"
   ]
  },
  {
   "cell_type": "code",
   "execution_count": null,
   "metadata": {},
   "outputs": [],
   "source": [
    "\"\"\"\n",
    "These guys calculating the reward by computing in one forward pass... in which they calculate the distance \n",
    "between the tip of the pole and the target tip.....\n",
    "They have 2 Reward functions other one is based on Angles.\n",
    "\"\"\"\n",
    "\"\"\"\n",
    "step: step method in this Cartpole (env.py) calls step method in base.py (in envs folder) and\n",
    "in turn to get next state it calls self.model(x, u, 0, ***kwargs) to get next state ...\n",
    "\n",
    "this is where the integrator/solver gives you next state .....\n",
    "\n",
    "so basically your step calls the solver by passing the necessary inputs to the self.model and returns \n",
    "\n",
    "\n",
    "In model:\n",
    "Note:\n",
    "        state: [x, x', theta, theta']\n",
    "        action: [F]\n",
    "        theta: 0 is pointing up and increasing clockwise.\n",
    "\n",
    "\n",
    "step_in_base.py: Takes action and grads (gradients) as arguments\n",
    "\n",
    "\n",
    "if grads:\n",
    "    converts the state into tensor and store it in x\n",
    "    converts the action into tensor and store it in u\n",
    "    to get the next state by initiating self.model(x,u,0, **kwargs) \n",
    "    the self.model is CartpoleModel() where it has Cartpole dynamcis model in dynamics method (model.py)\n",
    "   \n",
    "   \n",
    "Note:\n",
    "\n",
    "    dynamics method \n",
    "\"\"\"\n"
   ]
  }
 ],
 "metadata": {
  "kernelspec": {
   "display_name": "Python 3",
   "language": "python",
   "name": "python3"
  },
  "language_info": {
   "codemirror_mode": {
    "name": "ipython",
    "version": 3
   },
   "file_extension": ".py",
   "mimetype": "text/x-python",
   "name": "python",
   "nbconvert_exporter": "python",
   "pygments_lexer": "ipython3",
   "version": "3.6.9"
  }
 },
 "nbformat": 4,
 "nbformat_minor": 2
}
